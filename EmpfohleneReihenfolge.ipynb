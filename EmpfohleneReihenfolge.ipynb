{
 "cells": [
  {
   "cell_type": "markdown",
   "metadata": {},
   "source": [
    "# Empfohlene Reihenfolge - steigend nach Schwierigkeitsgrad"
   ]
  },
  {
   "cell_type": "markdown",
   "metadata": {},
   "source": [
    "0. (Python Basics)\n",
    "1. TextAdvGame\n",
    "2. NumberGuessing\n",
    "3. Queue\n",
    "4. PasswordGenerator\n",
    "5. Amazon\n",
    "6. Netflix\n",
    "7. RockPaperScissors\n",
    "8. TicTacToe\n",
    "9. (BubbleSort)\n",
    "10. (BinarySearch)"
   ]
  }
 ],
 "metadata": {
  "language_info": {
   "name": "python"
  }
 },
 "nbformat": 4,
 "nbformat_minor": 2
}
